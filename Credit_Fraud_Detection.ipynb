{
 "cells": [
  {
   "cell_type": "markdown",
   "id": "2783dcf1-6a28-419c-b8ec-8cb8ea33556d",
   "metadata": {},
   "source": [
    "# Topic:Credit Fraud Investigation\n",
    "# Name:\n",
    "# Date:\n",
    "# Course: \n",
    "# Tyepe of machine learning used:Random Forest classifier "
   ]
  },
  {
   "cell_type": "markdown",
   "id": "494ed5f9-83f8-4a75-95f0-5d24e6cbb61c",
   "metadata": {},
   "source": [
    "## Overal Description of the Code \n",
    "The code below demonstrates an ML solution incorporating a Random Forest classifier to identify credit card fraud. It starts with the importing and preprocessing of the dataset, which is converted from ARFF to CSV format for simplicity. The code then preprocesses the data by normalizing, transforming, and encoding it in the dataset to prepare it for analysis. Exploratory Data Analysis (EDA) is performed on data. To analyze the data more visually, the count plots, box plots, and pie charts are used to determine the distribution of the features and the target variable.\r\n",
    "First, the given data is preprocessed, and then the data is divided into train and test datasets. The Random Forest classification model is trained to predict the transaction as either fraudulent or non-fraudulent. As a measure of accuracy, accuracy and confusion matrices and classification reports are used to check the model's performance. The code also inculcates model validation, where cross-validation enhances the script model.\r\n"
   ]
  },
  {
   "cell_type": "markdown",
   "id": "d06cf127-bcf0-4a02-bc9b-16e930ab7326",
   "metadata": {},
   "source": [
    "## Step 1:Importing the necessary Library \n",
    "In this step, all the libraries needed to handle data and perform all the machine-learning computations are loaded. ARFF file is used to read files using the Scipy library. Data manipulation and operation on numerical values are done using Pandas and Numpy Libraries. train_test_split splits the dataset into the training set as well as the testing set. The categorical data is encoded using LabelEncoder, and the StandardScaler is applied to the given dataset to bring the data on a similar scale. The model is created using the RandomForestClassifier. Lastly, evaluation metrics are included in order to assess the accuracy of the model built."
   ]
  },
  {
   "cell_type": "code",
   "execution_count": 7,
   "id": "65af4e57-f7a3-4f1f-8080-6a31356a10bb",
   "metadata": {},
   "outputs": [],
   "source": [
    "\n",
    "#Import the module to load the ARFF files used in the machine learning datasets.\n",
    "from scipy.io import arff \n",
    "# Import  data analysis tool known as Pandas to handle the data.\n",
    "import pandas as pd  \n",
    "# Numpy is used for floating point computations and for handling arrays.\n",
    "import numpy as np \n",
    "# Import function to partition the dataset into train and test datasets.\n",
    "from sklearn.model_selection import train_test_split  \n",
    "# Import classes to encode categorical labels and scale features are imported below.\n",
    "from sklearn.preprocessing import LabelEncoder, StandardScaler  \n",
    "# To handle classification problems, import RandomForestClassifier, an ensemble method.\n",
    "from sklearn.ensemble import RandomForestClassifier  \n",
    "# Import functions to evaluate the performance of this model.\n",
    "from sklearn.metrics import accuracy_score, classification_report, confusion_matrix \n"
   ]
  },
  {
   "cell_type": "markdown",
   "id": "b492f1c1-0490-4224-8d96-93a7ac12fb8d",
   "metadata": {},
   "source": [
    "## Step 2: Changing the file arff to csv \n",
    "This code reads an.arf file, which is used as a widespread data mining format and transformed into a CSV format. First, it will also load the—loadarff, which preserves the data and the corresponding information about them. The data is then converted into a Pandas data frame, which is easier to manipulate. Finally, we convert this dataframe to CSV format, better suited for data analysis, and show the location of the CSV file.ess messag"
   ]
  },
  {
   "cell_type": "code",
   "execution_count": 2,
   "id": "06ff1b23-b3bf-4210-b149-5e254f0fd3db",
   "metadata": {},
   "outputs": [
    {
     "name": "stdout",
     "output_type": "stream",
     "text": [
      "ARFF file has been successfully converted to CSV and saved at: credit_fraud.csv\n"
     ]
    }
   ],
   "source": [
    "# Update the path with the actual location of your ARFF file.\n",
    "arff_file_path = 'C:/Users/840 G3/Downloads/credit_fraud.arff'\n",
    "# Load the data from the ARFF file and its attributes\n",
    "data, meta = arff.loadarff(arff_file_path)\n",
    "# Convert to pandas DataFrame\n",
    "df = pd.DataFrame(data)\n",
    "# Define the path of the CSV file to be generated.\n",
    "csv_file_path = 'credit_fraud.csv'  \n",
    "# Save the DataFrame as a CSV file, but do not include the index\n",
    "df.to_csv(csv_file_path, index=False)\n",
    "# Print a success message\n",
    "print(f\"ARFF file has been successfully converted to CSV and saved at: {csv_file_path}\")"
   ]
  },
  {
   "cell_type": "markdown",
   "id": "c95d0796-39fe-45f2-b2ff-16b368cf529a",
   "metadata": {},
   "source": [
    "## Step3:Loading and Reviewing of data\n",
    "In this step, the required data set is imported from a CSV file ‘credit_fraud.csv’ with the help of Pandas data. The info() method is then invoked to describe the data structure, data types, number of samples, and any missing data to assess the data quality.ls\n"
   ]
  },
  {
   "cell_type": "code",
   "execution_count": 64,
   "id": "ca1af713-c32d-4f48-9175-e0c70e1f135b",
   "metadata": {},
   "outputs": [
    {
     "name": "stdout",
     "output_type": "stream",
     "text": [
      "<class 'pandas.core.frame.DataFrame'>\n",
      "RangeIndex: 1000 entries, 0 to 999\n",
      "Data columns (total 21 columns):\n",
      " #   Column                  Non-Null Count  Dtype  \n",
      "---  ------                  --------------  -----  \n",
      " 0   over_draft              1000 non-null   object \n",
      " 1   credit_usage            1000 non-null   float64\n",
      " 2   credit_history          1000 non-null   object \n",
      " 3   purpose                 1000 non-null   object \n",
      " 4   current_balance         1000 non-null   float64\n",
      " 5   Average_Credit_Balance  1000 non-null   object \n",
      " 6   employment              1000 non-null   object \n",
      " 7   location                1000 non-null   float64\n",
      " 8   personal_status         1000 non-null   object \n",
      " 9   other_parties           1000 non-null   object \n",
      " 10  residence_since         1000 non-null   float64\n",
      " 11  property_magnitude      1000 non-null   object \n",
      " 12  cc_age                  1000 non-null   float64\n",
      " 13  other_payment_plans     1000 non-null   object \n",
      " 14  housing                 1000 non-null   object \n",
      " 15  existing_credits        1000 non-null   float64\n",
      " 16  job                     1000 non-null   object \n",
      " 17  num_dependents          1000 non-null   float64\n",
      " 18  own_telephone           1000 non-null   object \n",
      " 19  foreign_worker          1000 non-null   object \n",
      " 20  class                   1000 non-null   object \n",
      "dtypes: float64(7), object(14)\n",
      "memory usage: 164.2+ KB\n"
     ]
    }
   ],
   "source": [
    "# Load the given dataset\n",
    "data = pd.read_csv('credit_fraud.csv')\n",
    "# View data types and nulls\n",
    "data.info()  "
   ]
  },
  {
   "cell_type": "code",
   "execution_count": 10,
   "id": "d30f7663-e4ef-4866-8355-87430a581134",
   "metadata": {},
   "outputs": [
    {
     "data": {
      "text/html": [
       "<div>\n",
       "<style scoped>\n",
       "    .dataframe tbody tr th:only-of-type {\n",
       "        vertical-align: middle;\n",
       "    }\n",
       "\n",
       "    .dataframe tbody tr th {\n",
       "        vertical-align: top;\n",
       "    }\n",
       "\n",
       "    .dataframe thead th {\n",
       "        text-align: right;\n",
       "    }\n",
       "</style>\n",
       "<table border=\"1\" class=\"dataframe\">\n",
       "  <thead>\n",
       "    <tr style=\"text-align: right;\">\n",
       "      <th></th>\n",
       "      <th>over_draft</th>\n",
       "      <th>credit_usage</th>\n",
       "      <th>credit_history</th>\n",
       "      <th>purpose</th>\n",
       "      <th>current_balance</th>\n",
       "      <th>Average_Credit_Balance</th>\n",
       "      <th>employment</th>\n",
       "      <th>location</th>\n",
       "      <th>personal_status</th>\n",
       "      <th>other_parties</th>\n",
       "      <th>...</th>\n",
       "      <th>property_magnitude</th>\n",
       "      <th>cc_age</th>\n",
       "      <th>other_payment_plans</th>\n",
       "      <th>housing</th>\n",
       "      <th>existing_credits</th>\n",
       "      <th>job</th>\n",
       "      <th>num_dependents</th>\n",
       "      <th>own_telephone</th>\n",
       "      <th>foreign_worker</th>\n",
       "      <th>class</th>\n",
       "    </tr>\n",
       "  </thead>\n",
       "  <tbody>\n",
       "    <tr>\n",
       "      <th>0</th>\n",
       "      <td>b'&lt;0'</td>\n",
       "      <td>6.0</td>\n",
       "      <td>b'critical/other existing credit'</td>\n",
       "      <td>b'radio/tv'</td>\n",
       "      <td>1169.0</td>\n",
       "      <td>b'no known savings'</td>\n",
       "      <td>b'&gt;=7'</td>\n",
       "      <td>4.0</td>\n",
       "      <td>b'male single'</td>\n",
       "      <td>b'none'</td>\n",
       "      <td>...</td>\n",
       "      <td>b'real estate'</td>\n",
       "      <td>67.0</td>\n",
       "      <td>b'none'</td>\n",
       "      <td>b'own'</td>\n",
       "      <td>2.0</td>\n",
       "      <td>b'skilled'</td>\n",
       "      <td>1.0</td>\n",
       "      <td>b'yes'</td>\n",
       "      <td>b'yes'</td>\n",
       "      <td>b'good'</td>\n",
       "    </tr>\n",
       "    <tr>\n",
       "      <th>1</th>\n",
       "      <td>b'0&lt;=X&lt;200'</td>\n",
       "      <td>48.0</td>\n",
       "      <td>b'existing paid'</td>\n",
       "      <td>b'radio/tv'</td>\n",
       "      <td>5951.0</td>\n",
       "      <td>b'&lt;100'</td>\n",
       "      <td>b'1&lt;=X&lt;4'</td>\n",
       "      <td>2.0</td>\n",
       "      <td>b'female div/dep/mar'</td>\n",
       "      <td>b'none'</td>\n",
       "      <td>...</td>\n",
       "      <td>b'real estate'</td>\n",
       "      <td>22.0</td>\n",
       "      <td>b'none'</td>\n",
       "      <td>b'own'</td>\n",
       "      <td>1.0</td>\n",
       "      <td>b'skilled'</td>\n",
       "      <td>1.0</td>\n",
       "      <td>b'none'</td>\n",
       "      <td>b'yes'</td>\n",
       "      <td>b'bad'</td>\n",
       "    </tr>\n",
       "    <tr>\n",
       "      <th>2</th>\n",
       "      <td>b'no checking'</td>\n",
       "      <td>12.0</td>\n",
       "      <td>b'critical/other existing credit'</td>\n",
       "      <td>b'education'</td>\n",
       "      <td>2096.0</td>\n",
       "      <td>b'&lt;100'</td>\n",
       "      <td>b'4&lt;=X&lt;7'</td>\n",
       "      <td>2.0</td>\n",
       "      <td>b'male single'</td>\n",
       "      <td>b'none'</td>\n",
       "      <td>...</td>\n",
       "      <td>b'real estate'</td>\n",
       "      <td>49.0</td>\n",
       "      <td>b'none'</td>\n",
       "      <td>b'own'</td>\n",
       "      <td>1.0</td>\n",
       "      <td>b'unskilled resident'</td>\n",
       "      <td>2.0</td>\n",
       "      <td>b'none'</td>\n",
       "      <td>b'yes'</td>\n",
       "      <td>b'good'</td>\n",
       "    </tr>\n",
       "    <tr>\n",
       "      <th>3</th>\n",
       "      <td>b'&lt;0'</td>\n",
       "      <td>42.0</td>\n",
       "      <td>b'existing paid'</td>\n",
       "      <td>b'furniture/equipment'</td>\n",
       "      <td>7882.0</td>\n",
       "      <td>b'&lt;100'</td>\n",
       "      <td>b'4&lt;=X&lt;7'</td>\n",
       "      <td>2.0</td>\n",
       "      <td>b'male single'</td>\n",
       "      <td>b'guarantor'</td>\n",
       "      <td>...</td>\n",
       "      <td>b'life insurance'</td>\n",
       "      <td>45.0</td>\n",
       "      <td>b'none'</td>\n",
       "      <td>b'for free'</td>\n",
       "      <td>1.0</td>\n",
       "      <td>b'skilled'</td>\n",
       "      <td>2.0</td>\n",
       "      <td>b'none'</td>\n",
       "      <td>b'yes'</td>\n",
       "      <td>b'good'</td>\n",
       "    </tr>\n",
       "    <tr>\n",
       "      <th>4</th>\n",
       "      <td>b'&lt;0'</td>\n",
       "      <td>24.0</td>\n",
       "      <td>b'delayed previously'</td>\n",
       "      <td>b'new car'</td>\n",
       "      <td>4870.0</td>\n",
       "      <td>b'&lt;100'</td>\n",
       "      <td>b'1&lt;=X&lt;4'</td>\n",
       "      <td>3.0</td>\n",
       "      <td>b'male single'</td>\n",
       "      <td>b'none'</td>\n",
       "      <td>...</td>\n",
       "      <td>b'no known property'</td>\n",
       "      <td>53.0</td>\n",
       "      <td>b'none'</td>\n",
       "      <td>b'for free'</td>\n",
       "      <td>2.0</td>\n",
       "      <td>b'skilled'</td>\n",
       "      <td>2.0</td>\n",
       "      <td>b'none'</td>\n",
       "      <td>b'yes'</td>\n",
       "      <td>b'bad'</td>\n",
       "    </tr>\n",
       "  </tbody>\n",
       "</table>\n",
       "<p>5 rows × 21 columns</p>\n",
       "</div>"
      ],
      "text/plain": [
       "       over_draft  credit_usage                     credit_history  \\\n",
       "0           b'<0'           6.0  b'critical/other existing credit'   \n",
       "1     b'0<=X<200'          48.0                   b'existing paid'   \n",
       "2  b'no checking'          12.0  b'critical/other existing credit'   \n",
       "3           b'<0'          42.0                   b'existing paid'   \n",
       "4           b'<0'          24.0              b'delayed previously'   \n",
       "\n",
       "                  purpose  current_balance Average_Credit_Balance employment  \\\n",
       "0             b'radio/tv'           1169.0    b'no known savings'     b'>=7'   \n",
       "1             b'radio/tv'           5951.0                b'<100'  b'1<=X<4'   \n",
       "2            b'education'           2096.0                b'<100'  b'4<=X<7'   \n",
       "3  b'furniture/equipment'           7882.0                b'<100'  b'4<=X<7'   \n",
       "4              b'new car'           4870.0                b'<100'  b'1<=X<4'   \n",
       "\n",
       "   location        personal_status other_parties  ...    property_magnitude  \\\n",
       "0       4.0         b'male single'       b'none'  ...        b'real estate'   \n",
       "1       2.0  b'female div/dep/mar'       b'none'  ...        b'real estate'   \n",
       "2       2.0         b'male single'       b'none'  ...        b'real estate'   \n",
       "3       2.0         b'male single'  b'guarantor'  ...     b'life insurance'   \n",
       "4       3.0         b'male single'       b'none'  ...  b'no known property'   \n",
       "\n",
       "  cc_age  other_payment_plans      housing existing_credits  \\\n",
       "0   67.0              b'none'       b'own'              2.0   \n",
       "1   22.0              b'none'       b'own'              1.0   \n",
       "2   49.0              b'none'       b'own'              1.0   \n",
       "3   45.0              b'none'  b'for free'              1.0   \n",
       "4   53.0              b'none'  b'for free'              2.0   \n",
       "\n",
       "                     job num_dependents  own_telephone foreign_worker    class  \n",
       "0             b'skilled'            1.0         b'yes'         b'yes'  b'good'  \n",
       "1             b'skilled'            1.0        b'none'         b'yes'   b'bad'  \n",
       "2  b'unskilled resident'            2.0        b'none'         b'yes'  b'good'  \n",
       "3             b'skilled'            2.0        b'none'         b'yes'  b'good'  \n",
       "4             b'skilled'            2.0        b'none'         b'yes'   b'bad'  \n",
       "\n",
       "[5 rows x 21 columns]"
      ]
     },
     "execution_count": 10,
     "metadata": {},
     "output_type": "execute_result"
    }
   ],
   "source": [
    "# Viewing of the first few rows\n",
    "data.head() "
   ]
  },
  {
   "cell_type": "markdown",
   "id": "5cc27995-e08a-4e56-9687-42969aa16a4a",
   "metadata": {},
   "source": [
    "## Step 3 Data Cleaning \n",
    "In this part of the data cleaning process, missing value detection uses data.isnull().sum().  Subsequently, outliers in the numeric fields are controlled by using the 99th percentile of the values and converting negative values to the median value of that column. Similarly, if the columns are of categorical type, they are encoded into numeric type using LabelEncoder. Lastly, additional features such as ‘Average_Credit_Balance’, ‘over_draft’, and ‘employment’ are deleted from the data frame for further analysis and data modeling. This makes for a neater and less cluttered dataset in terms of the manageable quantity it will present."
   ]
  },
  {
   "cell_type": "code",
   "execution_count": 11,
   "id": "999e87f8-a3d2-4592-a404-cecadb590262",
   "metadata": {},
   "outputs": [
    {
     "name": "stdout",
     "output_type": "stream",
     "text": [
      "Data after removing unwanted characters:\n"
     ]
    },
    {
     "data": {
      "text/html": [
       "<div>\n",
       "<style scoped>\n",
       "    .dataframe tbody tr th:only-of-type {\n",
       "        vertical-align: middle;\n",
       "    }\n",
       "\n",
       "    .dataframe tbody tr th {\n",
       "        vertical-align: top;\n",
       "    }\n",
       "\n",
       "    .dataframe thead th {\n",
       "        text-align: right;\n",
       "    }\n",
       "</style>\n",
       "<table border=\"1\" class=\"dataframe\">\n",
       "  <thead>\n",
       "    <tr style=\"text-align: right;\">\n",
       "      <th></th>\n",
       "      <th>over_draft</th>\n",
       "      <th>credit_usage</th>\n",
       "      <th>credit_history</th>\n",
       "      <th>purpose</th>\n",
       "      <th>current_balance</th>\n",
       "      <th>Average_Credit_Balance</th>\n",
       "      <th>employment</th>\n",
       "      <th>location</th>\n",
       "      <th>personal_status</th>\n",
       "      <th>other_parties</th>\n",
       "      <th>...</th>\n",
       "      <th>property_magnitude</th>\n",
       "      <th>cc_age</th>\n",
       "      <th>other_payment_plans</th>\n",
       "      <th>housing</th>\n",
       "      <th>existing_credits</th>\n",
       "      <th>job</th>\n",
       "      <th>num_dependents</th>\n",
       "      <th>own_telephone</th>\n",
       "      <th>foreign_worker</th>\n",
       "      <th>class</th>\n",
       "    </tr>\n",
       "  </thead>\n",
       "  <tbody>\n",
       "    <tr>\n",
       "      <th>0</th>\n",
       "      <td>&lt;0</td>\n",
       "      <td>6.0</td>\n",
       "      <td>critical/other existing credit</td>\n",
       "      <td>radio/tv</td>\n",
       "      <td>1169.0</td>\n",
       "      <td>no known savings</td>\n",
       "      <td>&gt;=7</td>\n",
       "      <td>4.0</td>\n",
       "      <td>male single</td>\n",
       "      <td>none</td>\n",
       "      <td>...</td>\n",
       "      <td>real estate</td>\n",
       "      <td>67.0</td>\n",
       "      <td>none</td>\n",
       "      <td>own</td>\n",
       "      <td>2.0</td>\n",
       "      <td>skilled</td>\n",
       "      <td>1.0</td>\n",
       "      <td>yes</td>\n",
       "      <td>yes</td>\n",
       "      <td>good</td>\n",
       "    </tr>\n",
       "    <tr>\n",
       "      <th>1</th>\n",
       "      <td>0&lt;=X&lt;200</td>\n",
       "      <td>48.0</td>\n",
       "      <td>existing paid</td>\n",
       "      <td>radio/tv</td>\n",
       "      <td>5951.0</td>\n",
       "      <td>&lt;100</td>\n",
       "      <td>1&lt;=X&lt;4</td>\n",
       "      <td>2.0</td>\n",
       "      <td>female div/dep/mar</td>\n",
       "      <td>none</td>\n",
       "      <td>...</td>\n",
       "      <td>real estate</td>\n",
       "      <td>22.0</td>\n",
       "      <td>none</td>\n",
       "      <td>own</td>\n",
       "      <td>1.0</td>\n",
       "      <td>skilled</td>\n",
       "      <td>1.0</td>\n",
       "      <td>none</td>\n",
       "      <td>yes</td>\n",
       "      <td>bad</td>\n",
       "    </tr>\n",
       "    <tr>\n",
       "      <th>2</th>\n",
       "      <td>no checking</td>\n",
       "      <td>12.0</td>\n",
       "      <td>critical/other existing credit</td>\n",
       "      <td>education</td>\n",
       "      <td>2096.0</td>\n",
       "      <td>&lt;100</td>\n",
       "      <td>4&lt;=X&lt;7</td>\n",
       "      <td>2.0</td>\n",
       "      <td>male single</td>\n",
       "      <td>none</td>\n",
       "      <td>...</td>\n",
       "      <td>real estate</td>\n",
       "      <td>49.0</td>\n",
       "      <td>none</td>\n",
       "      <td>own</td>\n",
       "      <td>1.0</td>\n",
       "      <td>unskilled resident</td>\n",
       "      <td>2.0</td>\n",
       "      <td>none</td>\n",
       "      <td>yes</td>\n",
       "      <td>good</td>\n",
       "    </tr>\n",
       "    <tr>\n",
       "      <th>3</th>\n",
       "      <td>&lt;0</td>\n",
       "      <td>42.0</td>\n",
       "      <td>existing paid</td>\n",
       "      <td>furniture/equipment</td>\n",
       "      <td>7882.0</td>\n",
       "      <td>&lt;100</td>\n",
       "      <td>4&lt;=X&lt;7</td>\n",
       "      <td>2.0</td>\n",
       "      <td>male single</td>\n",
       "      <td>guarantor</td>\n",
       "      <td>...</td>\n",
       "      <td>life insurance</td>\n",
       "      <td>45.0</td>\n",
       "      <td>none</td>\n",
       "      <td>for free</td>\n",
       "      <td>1.0</td>\n",
       "      <td>skilled</td>\n",
       "      <td>2.0</td>\n",
       "      <td>none</td>\n",
       "      <td>yes</td>\n",
       "      <td>good</td>\n",
       "    </tr>\n",
       "    <tr>\n",
       "      <th>4</th>\n",
       "      <td>&lt;0</td>\n",
       "      <td>24.0</td>\n",
       "      <td>delayed previously</td>\n",
       "      <td>new car</td>\n",
       "      <td>4870.0</td>\n",
       "      <td>&lt;100</td>\n",
       "      <td>1&lt;=X&lt;4</td>\n",
       "      <td>3.0</td>\n",
       "      <td>male single</td>\n",
       "      <td>none</td>\n",
       "      <td>...</td>\n",
       "      <td>no known property</td>\n",
       "      <td>53.0</td>\n",
       "      <td>none</td>\n",
       "      <td>for free</td>\n",
       "      <td>2.0</td>\n",
       "      <td>skilled</td>\n",
       "      <td>2.0</td>\n",
       "      <td>none</td>\n",
       "      <td>yes</td>\n",
       "      <td>bad</td>\n",
       "    </tr>\n",
       "  </tbody>\n",
       "</table>\n",
       "<p>5 rows × 21 columns</p>\n",
       "</div>"
      ],
      "text/plain": [
       "    over_draft  credit_usage                  credit_history  \\\n",
       "0           <0           6.0  critical/other existing credit   \n",
       "1     0<=X<200          48.0                   existing paid   \n",
       "2  no checking          12.0  critical/other existing credit   \n",
       "3           <0          42.0                   existing paid   \n",
       "4           <0          24.0              delayed previously   \n",
       "\n",
       "               purpose  current_balance Average_Credit_Balance employment  \\\n",
       "0             radio/tv           1169.0       no known savings        >=7   \n",
       "1             radio/tv           5951.0                   <100     1<=X<4   \n",
       "2            education           2096.0                   <100     4<=X<7   \n",
       "3  furniture/equipment           7882.0                   <100     4<=X<7   \n",
       "4              new car           4870.0                   <100     1<=X<4   \n",
       "\n",
       "   location     personal_status other_parties  ...  property_magnitude cc_age  \\\n",
       "0       4.0         male single          none  ...         real estate   67.0   \n",
       "1       2.0  female div/dep/mar          none  ...         real estate   22.0   \n",
       "2       2.0         male single          none  ...         real estate   49.0   \n",
       "3       2.0         male single     guarantor  ...      life insurance   45.0   \n",
       "4       3.0         male single          none  ...   no known property   53.0   \n",
       "\n",
       "   other_payment_plans   housing existing_credits                 job  \\\n",
       "0                 none       own              2.0             skilled   \n",
       "1                 none       own              1.0             skilled   \n",
       "2                 none       own              1.0  unskilled resident   \n",
       "3                 none  for free              1.0             skilled   \n",
       "4                 none  for free              2.0             skilled   \n",
       "\n",
       "  num_dependents  own_telephone foreign_worker class  \n",
       "0            1.0            yes            yes  good  \n",
       "1            1.0           none            yes   bad  \n",
       "2            2.0           none            yes  good  \n",
       "3            2.0           none            yes  good  \n",
       "4            2.0           none            yes   bad  \n",
       "\n",
       "[5 rows x 21 columns]"
      ]
     },
     "execution_count": 11,
     "metadata": {},
     "output_type": "execute_result"
    }
   ],
   "source": [
    "\n",
    "# Remove unwanted characters (e.g., 'b' and apostrophes from the dataset)\n",
    "data = data.replace({r\"b'\": '', r\"'\": ''}, regex=True)\n",
    "# Print the first few rows after removing unwanted characters to verify\n",
    "print(\"Data after removing unwanted characters:\")\n",
    "data.head()  # Display the first few rows of the cleaned data"
   ]
  },
  {
   "cell_type": "code",
   "execution_count": 12,
   "id": "6a164d92-5cd3-4aac-91ae-1a2efc415eec",
   "metadata": {},
   "outputs": [
    {
     "name": "stdout",
     "output_type": "stream",
     "text": [
      "over_draft                0\n",
      "credit_usage              0\n",
      "credit_history            0\n",
      "purpose                   0\n",
      "current_balance           0\n",
      "Average_Credit_Balance    0\n",
      "employment                0\n",
      "location                  0\n",
      "personal_status           0\n",
      "other_parties             0\n",
      "residence_since           0\n",
      "property_magnitude        0\n",
      "cc_age                    0\n",
      "other_payment_plans       0\n",
      "housing                   0\n",
      "existing_credits          0\n",
      "job                       0\n",
      "num_dependents            0\n",
      "own_telephone             0\n",
      "foreign_worker            0\n",
      "class                     0\n",
      "dtype: int64\n"
     ]
    }
   ],
   "source": [
    "# Impute missing values\n",
    "# Look for the presence of missing values.\n",
    "print(data.isnull().sum())"
   ]
  },
  {
   "cell_type": "code",
   "execution_count": 13,
   "id": "4ecc5223-7959-4ab0-9674-e085cb806ae4",
   "metadata": {},
   "outputs": [],
   "source": [
    "# Handle incorrect/inconsistent values\n",
    "# Identification of numerical variables (excluding ‘class’ if it is qualitative)\n",
    "numeric_cols = data.select_dtypes(include=[np.number]).columns.difference(['class'])\n",
    "# Scale all numerical features so that no values go above the 99th percentile; handle negatives\n",
    "for col in numeric_cols:\n",
    "    # Cap at 99th percentile\n",
    "    data[col] = np.clip(data[col], None, data[col].quantile(0.99))\n",
    "    # Use the median to replace negative values.\n",
    "    data[col] = np.where(data[col] < 0, data[col].median(), data[col])\n"
   ]
  },
  {
   "cell_type": "code",
   "execution_count": 14,
   "id": "021915eb-5b07-4b13-b20d-1f7947adcb79",
   "metadata": {},
   "outputs": [],
   "source": [
    "\n",
    "# Category values must be converted to numerical form using a label encoder \n",
    "# Initialize the LabelEncoder\n",
    "le = LabelEncoder()\n",
    "# List of categorical columns to be encoded\n",
    "categorical_columns = ['over_draft', 'credit_history', 'purpose', 'Average_Credit_Balance', \n",
    "                       'employment', 'personal_status', 'other_parties', 'property_magnitude',\n",
    "                       'other_payment_plans', 'housing', 'job', 'own_telephone', \n",
    "                       'foreign_worker', 'class']\n",
    "# Iterate through each of the categorical columns\n",
    "for col in categorical_columns:\n",
    "    # It makes use of label encoding to encode name labels to integers.\n",
    "    data[col] = le.fit_transform(data[col])\n"
   ]
  },
  {
   "cell_type": "code",
   "execution_count": 15,
   "id": "9483099a-6a2a-4978-8369-c5be106e9076",
   "metadata": {},
   "outputs": [],
   "source": [
    "# Delete the columns that are not useful.\n",
    "# Dropping ‘Average_Credit_Balance’, ‘over_draft’, and ‘employment’\n",
    "data = data.drop(['Average_Credit_Balance', 'over_draft', 'employment'], axis=1)"
   ]
  },
  {
   "cell_type": "markdown",
   "id": "b4cf0d83-55f4-4395-b27e-b7c4c517ab49",
   "metadata": {},
   "source": [
    "## Step 4:Data Explorations in graphical View\n",
    "In this step, different graphs are generated to analyze the data set that is being studied. A count plot is a type of plot used to display the count of the target variable; here, it is ‘class’. Using a box plot, we can disentangle the ‘property_magnitude’ by different classes, which shows if they are distributed differently. Further, a pie chart is used to divide data for each category in ‘credit_history’ to understand the distribution of credit history in instances. Such visualizations serve to reveal trends as well as associations between the variables in the dataset.\n",
    "in a pie chart.\n",
    "\n",
    "\n",
    "\n",
    "\n",
    "\n",
    "\n",
    "\n",
    "\n",
    "\n",
    "\n"
   ]
  },
  {
   "cell_type": "code",
   "execution_count": 32,
   "id": "f2cb8cc9-788b-4b89-9550-e5e19bd91bb3",
   "metadata": {},
   "outputs": [
    {
     "data": {
      "image/png": "[encoded data removed]",
      "text/plain": [
       "<Figure size 640x480 with 1 Axes>"
      ]
     },
     "metadata": {},
     "output_type": "display_data"
    }
   ],
   "source": [
    "\n",
    "# Visualizing class distribution\n",
    "sns.countplot(x='class', data=data)\n",
    "# Display the plot    \n",
    "plt.show()"
   ]
  },
  {
   "cell_type": "code",
   "execution_count": 61,
   "id": "e36e37bc-96f1-4b02-987c-c5e61d776c07",
   "metadata": {},
   "outputs": [
    {
     "data": {
      "image/png": "[encoded data removed]",
      "text/plain": [
       "<Figure size 1000x600 with 1 Axes>"
      ]
     },
     "metadata": {},
     "output_type": "display_data"
    }
   ],
   "source": [
    "## Visualizing Magnitude by Class \n",
    "# Incorporate the figure's size by using the plot as the plot reference.\n",
    "plt.figure(figsize=(10, 6))\n",
    "# Add a box plot of ‘property_magnitude’ by ‘class’ to visualize the distribution of the variable.\n",
    "sns.boxplot(x='class', y='property_magnitude', data=data)\n",
    "# Plot title should be assigned to the following as a string value:\n",
    "plt.title('Property Magnitude by Class')\n",
    "# Add a legend to the x-axis and call it Class\n",
    "plt.xlabel('Class')\n",
    "# It is important to label the y-axis as Property Magnitude.\n",
    "plt.ylabel('Property Magnitude')\n",
    "# Display the plot\n",
    "plt.show()\n"
   ]
  },
  {
   "cell_type": "code",
   "execution_count": 62,
   "id": "824fbebb-bd2e-494c-adc7-173c48963a59",
   "metadata": {},
   "outputs": [
    {
     "data": {
      "image/png": "[encoded data removed]",
      "text/plain": [
       "<Figure size 800x800 with 1 Axes>"
      ]
     },
     "metadata": {},
     "output_type": "display_data"
    }
   ],
   "source": [
    "\n",
    "## Pie chart showing the distribution of credit history equipment\n",
    "# Specify the size of the pie chart.\n",
    "plt.figure(figsize=(8, 8))\n",
    "## Plot the distribution of ‘credit history’ using a pie chart.\n",
    "data['credit_history'].value_counts().plot.pie(autopct='%1.1f%%', startangle=90)\n",
    "# Identify the title of the pie chart.\n",
    "plt.title('Pie Chart of Credit History Distribution')\n",
    "## Comment out the y-axis label for a cleaner appearance of the GUI.\n",
    "plt.ylabel('')\n",
    "## Visualize the specific portion of the data in a pie chart.\n",
    "plt.show()"
   ]
  },
  {
   "cell_type": "markdown",
   "id": "be599863-6267-4764-b59a-794a2bcbb4ca",
   "metadata": {},
   "source": [
    "## Step 5:Preprocessing of Data \n",
    "This is a preprocessing step in which the dataset goes through a process to get ready for modeling in that the variable to be predicted is separated from features. The features are stored in X by removing the ‘class’ variable, whereas the vector of target attribute values, the class labels, is stored in y. The dataset is then divided into training and testing sets using the train_test_split function, where 80% of data points are used for training and 20% for the testing set. This allows the model to be optimized using one large portion of the data and a separate data set for testing to avoid overfitting, wherein the model may only learn to identify a portion of input data."
   ]
  },
  {
   "cell_type": "code",
   "execution_count": 33,
   "id": "63e8862e-2161-42a7-bec8-9761e5207621",
   "metadata": {},
   "outputs": [],
   "source": [
    "# Step 10: Preprocess features and target variable\n",
    " # Features\n",
    "X = data.drop('class', axis=1) \n",
    " # Target variable \n",
    "y = data['class'] \n"
   ]
  },
  {
   "cell_type": "code",
   "execution_count": 56,
   "id": "aaac94a2-7a7a-4740-961d-527beb253d0c",
   "metadata": {},
   "outputs": [],
   "source": [
    "#Split the data into training and testing sets\n",
    "# Enter 80% of the data for training and the remaining 20% for testing if a sample has an equal random state.\n",
    "X_train, X_test, y_train, y_test = train_test_split(X, y, test_size=0.2, random_state=42)"
   ]
  },
  {
   "cell_type": "markdown",
   "id": "b9e2a6b6-84b4-4f22-9bd4-cef8d6779a35",
   "metadata": {},
   "source": [
    "## Step 6:Creating and Evaluation of the model \n",
    "Creating and testing the model is covered under this step. A Random Forest classifier with the number of trees as 100 is formed and fitted on the training set. The predictions are then made on the test dataset, and the model's performance is summarized using various measures. Accuracy assesses the general performance; the confusion matrix displays the true positives, true negatives, false positives, and false negatives, and the classification report gives details of precision, recall, F1, and support for each class."
   ]
  },
  {
   "cell_type": "code",
   "execution_count": 60,
   "id": "401920ea-f2a3-47db-b1ac-cf50d4c89c07",
   "metadata": {},
   "outputs": [
    {
     "name": "stdout",
     "output_type": "stream",
     "text": [
      "Accuracy: 0.735\n",
      "Confusion Matrix:\n",
      " [[ 19  40]\n",
      " [ 13 128]]\n",
      "Classification Report:\n",
      "               precision    recall  f1-score   support\n",
      "\n",
      "           0       0.59      0.32      0.42        59\n",
      "           1       0.76      0.91      0.83       141\n",
      "\n",
      "    accuracy                           0.73       200\n",
      "   macro avg       0.68      0.61      0.62       200\n",
      "weighted avg       0.71      0.73      0.71       200\n",
      "\n"
     ]
    }
   ],
   "source": [
    "\n",
    "# Build and develop the Random Forest classifier\n",
    "# Random Forest algorithm is now an alternative used to train the set of 100 trees with the same random seed.\n",
    "rf_model = RandomForestClassifier(n_estimators=100, random_state=42)\n",
    "# Fit the model to the training data\n",
    "rf_model.fit(X_train, y_train)\n",
    "# Implement the algorithm to make predictions\n",
    "y_pred = rf_model.predict(X_test)\n",
    "#Evaluation of the model's performance\n",
    "print(\"Accuracy:\", accuracy_score(y_test, y_pred))\n",
    "#printing output of the confusion matrix\n",
    "print(\"Confusion Matrix:\\n\", confusion_matrix(y_test, y_pred))\n",
    "# Printing output for Classification \n",
    "print(\"Classification Report:\\n\", classification_report(y_test, y_pred))"
   ]
  },
  {
   "cell_type": "markdown",
   "id": "9ae143e5-5444-4324-aa49-ae708d6f086d",
   "metadata": {},
   "source": [
    "## Step 7 :Model validation using cross-validation\n",
    "In this step, the Random Forest model is tested using 5-fold cross-validation. The dataset is then divided into five almost equal segments, and the model developed is used in testing with only one segment, whereas the model is trained with the other four segments. Cross validation is done several folds, wherein each time one of the five folds is used as the test data set. The scores for each fold of cross-validation are therefore calculated and saved. The mean score is then calculated, and this gives us an overall impression of how our model is performing and whether or not there is consistency even in the different data subsets."
   ]
  },
  {
   "cell_type": "code",
   "execution_count": 67,
   "id": "d1f957fc-3998-44d7-9949-d34df0514151",
   "metadata": {},
   "outputs": [
    {
     "name": "stdout",
     "output_type": "stream",
     "text": [
      "Cross-Validation Scores: [0.73125 0.68125 0.675   0.7375  0.73125]\n",
      "Mean Cross-Validation Score: 0.71125\n"
     ]
    }
   ],
   "source": [
    "# Model validation using cross-validation\n",
    "from sklearn.model_selection import cross_val_score\n",
    "cv_scores = cross_val_score(rf_model, X_train, y_train, cv=5)  # 5-fold cross-validation\n",
    "print(\"Cross-Validation Scores:\", cv_scores)\n",
    "print(\"Mean Cross-Validation Score:\", cv_scores.mean())"
   ]
  },
  {
   "cell_type": "markdown",
   "id": "12265c43-b7fb-4e57-8595-f53cc86a44df",
   "metadata": {},
   "source": [
    "## Step 8: Plotting of Results \n",
    "The confusion matrix is best represented in the heatmap, describing actual vs. predicted classes for class. These values show the number of outcomes that have been successfully predicted and those that have not been predicted. Moreover, the classification report is synthesized with bar plots for a precise value of the measure, including precision, recall, and F1-score for each class, so that an exact comparing platform of model performance in different metrics is identified and interpreting results becomes more convenient."
   ]
  },
  {
   "cell_type": "code",
   "execution_count": 39,
   "id": "cc690de5-9696-4046-ad31-8c65d0cd08ba",
   "metadata": {},
   "outputs": [
    {
     "data": {
      "image/png": "[encoded data removed]",
      "text/plain": [
       "<Figure size 800x600 with 2 Axes>"
      ]
     },
     "metadata": {},
     "output_type": "display_data"
    }
   ],
   "source": [
    "# Compute confusion matrix\n",
    "import matplotlib.pyplot as plt\n",
    "cm = confusion_matrix(y_test, y_pred)\n",
    "# Plot confusion matrix\n",
    "#size of the figure \n",
    "plt.figure(figsize=(8, 6))\n",
    "sns.heatmap(cm, annot=True, fmt='d', cmap='Blues', xticklabels=['Class 0', 'Class 1'], yticklabels=['Class 0', 'Class 1'])\n",
    "#labeling of x axis \n",
    "plt.xlabel('Predicted')\n",
    "#Labeling of y axis \n",
    "plt.ylabel('True')\n",
    "#labeling of title \n",
    "plt.title('Confusion Matrix')\n",
    "# display of the plot \n",
    "plt.show()"
   ]
  },
  {
   "cell_type": "code",
   "execution_count": 30,
   "id": "15025658-26cc-40db-9a41-4c2c6ad8ee2a",
   "metadata": {},
   "outputs": [
    {
     "data": {
      "image/png": "[encoded data removed]",
      "text/plain": [
       "<Figure size 1000x600 with 1 Axes>"
      ]
     },
     "metadata": {},
     "output_type": "display_data"
    }
   ],
   "source": [
    "# Generate the classification report as a DataFrame\n",
    "report_dict = classification_report(y_test, y_pred, output_dict=True)\n",
    "report_df = pd.DataFrame(report_dict).transpose()\n",
    "# Plotting the classification report\n",
    "metrics = ['precision', 'recall', 'f1-score']\n",
    "classes = report_df.index[:-1]  # Exclude the 'support' row\n",
    "# Create a bar plot for each metric\n",
    "plt.figure(figsize=(10, 6))\n",
    "for i, metric in enumerate(metrics):\n",
    "    plt.bar(classes + f' {metric}', report_df[metric].iloc[:-1], label=metric)\n",
    "#labellling of title \n",
    "plt.title('Classification Report Metrics')\n",
    "#labelling of y axis \n",
    "plt.ylabel('Score')\n",
    "#labeling of X axis \n",
    "plt.xlabel('Classes')\n",
    "plt.xticks(rotation=45)\n",
    "# Display of the legend\n",
    "plt.legend()\n",
    "#Display of the plot \n",
    "plt.show()"
   ]
  }
 ],
 "metadata": {
  "kernelspec": {
   "display_name": "Python 3 (ipykernel)",
   "language": "python",
   "name": "python3"
  },
  "language_info": {
   "codemirror_mode": {
    "name": "ipython",
    "version": 3
   },
   "file_extension": ".py",
   "mimetype": "text/x-python",
   "name": "python",
   "nbconvert_exporter": "python",
   "pygments_lexer": "ipython3",
   "version": "3.11.7"
  }
 },
 "nbformat": 4,
 "nbformat_minor": 5
}
