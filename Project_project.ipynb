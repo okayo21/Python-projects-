{
 "cells": [
  {
   "cell_type": "markdown",
   "id": "6ea83801-2475-4079-80bc-ba433769f674",
   "metadata": {},
   "source": [
    "# Project 3:Sentiment Analysis of Tweets Using Neural Networks\n",
    "## Description \n",
    "This project aims to build a Sentiment Analysis Neural Network (SANN) using PyTorch to classify tweets into three sentiment categories. As pointed out, there are three types of feedback: positive, negative and neutral. This involves using Word2Vec embeddings (from GloVe) to extract the content of the tweets and translate it to a dimensional space of meaning. In constructing the model structure, the hidden layer with ReLU activation was employed to extract more computational patterns in the feed data. In contrast, the output layer applied softmax to determine metric probabilities of sentiment.\n",
    "\n",
    "Further objectives include relying on PyTorch’s nn module components; we use nn. Linear for transitioning to the fully connected layers, and nn.CrossEntropyLoss as the classification loss; the Adam optimizer for most efficient updates. In order to increase the speed of batch processing and the generalization of the models considerably, we have used DataLoader. Despite this, it is always good to know how the measurements work; therefore, the last evaluation measures used include Model accuracy, the F1 score, and the confusion matrix.\n"
   ]
  },
  {
   "cell_type": "markdown",
   "id": "8ca5e02a-1e7c-425c-a682-bf7124688b8d",
   "metadata": {},
   "source": [
    "## Importing of  Libraries"
   ]
  },
  {
   "cell_type": "code",
   "execution_count": 1,
   "id": "f1676285-7ba7-4019-bbe7-f9727dabc8c8",
   "metadata": {},
   "outputs": [],
   "source": [
    "# Data handling libraries\n",
    "import pandas as pd  # For data manipulation\n",
    "import numpy as np  # For numerical operations\n",
    "# PyTorch libraries for building and training models\n",
    "import torch  # Main PyTorch library\n",
    "import torch.nn as nn  # For neural network components\n",
    "import torch.optim as optim  # For optimization algorithms\n",
    "from torch.utils.data import DataLoader, TensorDataset  # For data loading and batching\n",
    "# Scikit-learn for data splitting and evaluation metrics\n",
    "from sklearn.model_selection import train_test_split  # For splitting data into train/validation sets\n",
    "from sklearn.metrics import f1_score, accuracy_score, classification_report, confusion_matrix  # For evaluating model performance\n",
    "# For encoding labels into numerical format\n",
    "from sklearn.preprocessing import LabelEncoder  # Converts categorical labels to numerical\n",
    "# Visualization libraries\n",
    "import seaborn as sns  # For creating visualizations\n",
    "import matplotlib.pyplot as plt  # For plotting graphs\n",
    "# To fetch data from URLs\n",
    "import requests  # For making HTTP requests to download data"
   ]
  },
  {
   "cell_type": "markdown",
   "id": "a0e3b301-2e9b-4aa5-81ec-0ec72790c7a2",
   "metadata": {},
   "source": [
    "## Step 2: Loading of Data"
   ]
  },
  {
   "cell_type": "code",
   "execution_count": 2,
   "id": "8210e610-765a-48b1-9168-04b78206092b",
   "metadata": {},
   "outputs": [],
   "source": [
    "\n",
    "def load_data(url):\n",
    "    \"\"\"Load data from the provided URL.\"\"\"\n",
    "    response = requests.get(url)  # Get data from URL\n",
    "    response.raise_for_status()  # Check for errors\n",
    "    return [line.strip() for line in response.text.splitlines()]  # Return cleaned lines\n",
    "\n",
    "# URLs for the datasets\n",
    "train_texts = load_data('https://raw.githubusercontent.com/cardiffnlp/tweeteval/main/datasets/sentiment/train_text.txt')  # Load training texts\n",
    "train_labels = load_data('https://raw.githubusercontent.com/cardiffnlp/tweeteval/main/datasets/sentiment/train_labels.txt')  # Load training labels\n",
    "valid_texts = load_data('https://raw.githubusercontent.com/cardiffnlp/tweeteval/main/datasets/sentiment/val_text.txt')  # Load validation texts\n",
    "valid_labels = load_data('https://raw.githubusercontent.com/cardiffnlp/tweeteval/main/datasets/sentiment/val_labels.txt')  # Load validation labels\n",
    "test_texts = load_data('https://raw.githubusercontent.com/cardiffnlp/tweeteval/main/datasets/sentiment/test_text.txt')  # Load test texts\n",
    "test_labels = load_data('https://raw.githubusercontent.com/cardiffnlp/tweeteval/main/datasets/sentiment/test_labels.txt')  # Load test labels\n"
   ]
  },
  {
   "cell_type": "markdown",
   "id": "f757f1f7-0ff6-424a-8ebd-1e615671d669",
   "metadata": {},
   "source": [
    "## Step 3: Label Encoding"
   ]
  },
  {
   "cell_type": "code",
   "execution_count": 3,
   "id": "6f416437-ff4e-4515-9d54-a635efb038d3",
   "metadata": {},
   "outputs": [],
   "source": [
    "# Encode labels\n",
    "label_encoder = LabelEncoder()\n",
    "train_labels = label_encoder.fit_transform(train_labels)\n",
    "valid_labels = label_encoder.transform(valid_labels)\n",
    "test_labels = label_encoder.transform(test_labels)\n",
    "\n",
    "# Convert texts to lowercase\n",
    "train_texts = [text.lower() for text in train_texts]\n",
    "valid_texts = [text.lower() for text in valid_texts]\n",
    "test_texts = [text.lower() for text in test_texts]\n"
   ]
  },
  {
   "cell_type": "markdown",
   "id": "bdad5c7f-24c2-42ba-bed8-f81d2610fce8",
   "metadata": {},
   "source": [
    "## Steep 4: Load Pre-trained Word2Vec Embeddings"
   ]
  },
  {
   "cell_type": "code",
   "execution_count": 4,
   "id": "c3852c2e-c8de-4b58-af8f-eca13fe9fdd3",
   "metadata": {},
   "outputs": [],
   "source": [
    "# Load GloVe embeddings\n",
    "embedding_dict = {}\n",
    "with open('glove.twitter.27B.50d.txt', 'r', encoding='utf-8') as f:\n",
    "    for line in f:\n",
    "        values = line.split()\n",
    "        word = values[0]\n",
    "        vector = np.asarray(values[1:], dtype='float32')\n",
    "        embedding_dict[word] = vector\n",
    "\n",
    "# Get word embeddings for a text\n",
    "def get_word_embedding(text, embedding_dict):\n",
    "    embeddings = [embedding_dict.get(word, np.zeros(50)) for word in text.split()]\n",
    "    return np.mean(embeddings, axis=0) if embeddings else np.zeros(50)\n",
    "\n",
    "# Create embeddings for train, validation, and test texts\n",
    "train_embeddings = np.array([get_word_embedding(text, embedding_dict) for text in train_texts])\n",
    "valid_embeddings = np.array([get_word_embedding(text, embedding_dict) for text in valid_texts])\n",
    "test_embeddings = np.array([get_word_embedding(text, embedding_dict) for text in test_texts])\n"
   ]
  },
  {
   "cell_type": "markdown",
   "id": "2328a8c5-1222-4909-9383-b7dcec3b8e34",
   "metadata": {},
   "source": [
    "# Step 5:Tensor Conversion and DataLoader Creation"
   ]
  },
  {
   "cell_type": "code",
   "execution_count": 5,
   "id": "0baa7987-f62a-46b6-8a72-d0d9e450dd02",
   "metadata": {},
   "outputs": [],
   "source": [
    "# Convert embeddings and labels to tensors\n",
    "train_tensor = torch.tensor(train_embeddings, dtype=torch.float32)\n",
    "valid_tensor = torch.tensor(valid_embeddings, dtype=torch.float32)\n",
    "test_tensor = torch.tensor(test_embeddings, dtype=torch.float32)\n",
    "\n",
    "train_labels_tensor = torch.tensor(train_labels, dtype=torch.long)\n",
    "valid_labels_tensor = torch.tensor(valid_labels, dtype=torch.long)\n",
    "test_labels_tensor = torch.tensor(test_labels, dtype=torch.long)\n",
    "\n",
    "# Create datasets and data loaders\n",
    "train_dataset = TensorDataset(train_tensor, train_labels_tensor)\n",
    "valid_dataset = TensorDataset(valid_tensor, valid_labels_tensor)\n",
    "test_dataset = TensorDataset(test_tensor, test_labels_tensor)\n",
    "\n",
    "batch_size = 64\n",
    "train_loader = DataLoader(train_dataset, batch_size=batch_size, shuffle=True)\n",
    "valid_loader = DataLoader(valid_dataset, batch_size=batch_size)\n",
    "test_loader = DataLoader(test_dataset, batch_size=batch_size)\n"
   ]
  },
  {
   "cell_type": "markdown",
   "id": "76684333-4f67-4107-b5b2-16d4bf27dfe3",
   "metadata": {},
   "source": [
    "## Step 6 :Defining Model  for Neural Network"
   ]
  },
  {
   "cell_type": "code",
   "execution_count": 35,
   "id": "1b26995e-ca74-418e-a099-a948b9980e47",
   "metadata": {},
   "outputs": [
    {
     "name": "stdout",
     "output_type": "stream",
     "text": [
      "Fold 1\n",
      "Accuracy for fold 1: 0.5682\n",
      "Fold 2\n",
      "Accuracy for fold 2: 0.5653\n",
      "Fold 3\n",
      "Accuracy for fold 3: 0.5653\n",
      "Fold 4\n",
      "Accuracy for fold 4: 0.5746\n",
      "Fold 5\n",
      "Accuracy for fold 5: 0.5645\n",
      "Average Accuracy across all folds: 0.5676\n"
     ]
    }
   ],
   "source": [
    "import torch\n",
    "import torch.nn as nn\n",
    "import torch.optim as optim\n",
    "from sklearn.model_selection import KFold\n",
    "from sklearn.metrics import accuracy_score\n",
    "from torch.utils.data import DataLoader, TensorDataset\n",
    "\n",
    "# Define the Neural Network Model\n",
    "class SentimentAnalysisModel(nn.Module):\n",
    "    def __init__(self, input_dim, hidden_dim, output_dim):\n",
    "        super(SentimentAnalysisModel, self).__init__()\n",
    "        self.fc1 = nn.Linear(input_dim, hidden_dim)\n",
    "        self.fc2 = nn.Linear(hidden_dim, output_dim)\n",
    "        self.relu = nn.ReLU()\n",
    "        self.softmax = nn.Softmax(dim=1)\n",
    "\n",
    "    def forward(self, x):\n",
    "        x = self.relu(self.fc1(x))\n",
    "        x = self.fc2(x)\n",
    "        x = self.softmax(x)\n",
    "        return x\n",
    "\n",
    "# Cross-validation implementation\n",
    "def cross_validate(model, embeddings, labels, batch_size=64, n_splits=5):\n",
    "    kfold = KFold(n_splits=n_splits, shuffle=True, random_state=42)\n",
    "    fold_accuracies = []\n",
    "\n",
    "    # Start cross-validation\n",
    "    for fold, (train_idx, val_idx) in enumerate(kfold.split(embeddings)):\n",
    "        print(f\"Fold {fold+1}\")\n",
    "\n",
    "        # Split the data into training and validation\n",
    "        train_embeddings_fold, val_embeddings_fold = embeddings[train_idx], embeddings[val_idx]\n",
    "        train_labels_fold, val_labels_fold = labels[train_idx], labels[val_idx]\n",
    "\n",
    "        # Convert to tensors for each fold\n",
    "        train_tensor = torch.tensor(train_embeddings_fold, dtype=torch.float32)\n",
    "        val_tensor = torch.tensor(val_embeddings_fold, dtype=torch.float32)\n",
    "        train_labels_tensor = torch.tensor(train_labels_fold, dtype=torch.long)\n",
    "        val_labels_tensor = torch.tensor(val_labels_fold, dtype=torch.long)\n",
    "\n",
    "        # Create DataLoaders for this fold\n",
    "        train_dataset = TensorDataset(train_tensor, train_labels_tensor)\n",
    "        val_dataset = TensorDataset(val_tensor, val_labels_tensor)\n",
    "        train_loader = DataLoader(train_dataset, batch_size=batch_size, shuffle=True)\n",
    "        val_loader = DataLoader(val_dataset, batch_size=batch_size)\n",
    "\n",
    "        # Initialize the model for this fold\n",
    "        model = SentimentAnalysisModel(input_dim=50, hidden_dim=128, output_dim=3)\n",
    "        optimizer = optim.Adam(model.parameters(), lr=0.001)\n",
    "        criterion = nn.CrossEntropyLoss()\n",
    "\n",
    "        # Training loop for the current fold\n",
    "        model.train()  # Set model to training mode\n",
    "        for epoch in range(1):  # Modify the number of epochs as needed\n",
    "            for inputs, targets in train_loader:\n",
    "                optimizer.zero_grad()\n",
    "                outputs = model(inputs)\n",
    "                loss = criterion(outputs, targets)\n",
    "                loss.backward()\n",
    "                optimizer.step()\n",
    "\n",
    "        # Validation loop\n",
    "        model.eval()  # Set model to evaluation mode\n",
    "        all_preds = []\n",
    "        all_labels = []\n",
    "        with torch.no_grad():\n",
    "            for inputs, targets in val_loader:\n",
    "                outputs = model(inputs)\n",
    "                _, predicted = torch.max(outputs, 1)\n",
    "                all_preds.extend(predicted.numpy())\n",
    "                all_labels.extend(targets.numpy())\n",
    "\n",
    "        # Calculate accuracy for the fold\n",
    "        accuracy = accuracy_score(all_labels, all_preds)\n",
    "        fold_accuracies.append(accuracy)\n",
    "        print(f\"Accuracy for fold {fold+1}: {accuracy:.4f}\")\n",
    "\n",
    "    # Calculate and print the average accuracy across all folds\n",
    "    avg_accuracy = sum(fold_accuracies) / n_splits\n",
    "    print(f\"Average Accuracy across all folds: {avg_accuracy:.4f}\")\n",
    "\n",
    "# Perform cross-validation\n",
    "cross_validate(SentimentAnalysisModel, train_embeddings, train_labels, batch_size=64, n_splits=5)\n"
   ]
  },
  {
   "cell_type": "markdown",
   "id": "a69c375e-513e-41ed-a7b9-b0a577970386",
   "metadata": {},
   "source": [
    "## Step 7:Model Definition and Initialization"
   ]
  },
  {
   "cell_type": "code",
   "execution_count": 36,
   "id": "dff09e29-3241-425c-902b-67168797295d",
   "metadata": {},
   "outputs": [
    {
     "name": "stdout",
     "output_type": "stream",
     "text": [
      "Epoch [0/50], Avg Training Loss: 0.8912, Training Accuracy: 0.6524\n",
      "Epoch [0/50], Validation Loss: 0.9324, Validation Accuracy: 0.6050\n",
      "Epoch [1/50], Validation Loss: 0.9338, Validation Accuracy: 0.6020\n",
      "Epoch [2/50], Validation Loss: 0.9309, Validation Accuracy: 0.6015\n",
      "Epoch [3/50], Validation Loss: 0.9325, Validation Accuracy: 0.6045\n",
      "Epoch [4/50], Validation Loss: 0.9331, Validation Accuracy: 0.5970\n",
      "Epoch [5/50], Validation Loss: 0.9337, Validation Accuracy: 0.6015\n",
      "Epoch [6/50], Validation Loss: 0.9337, Validation Accuracy: 0.6015\n",
      "Epoch [7/50], Validation Loss: 0.9322, Validation Accuracy: 0.6030\n",
      "Epoch [8/50], Validation Loss: 0.9356, Validation Accuracy: 0.6060\n",
      "Epoch [9/50], Validation Loss: 0.9329, Validation Accuracy: 0.6025\n",
      "Epoch [10/50], Avg Training Loss: 0.8852, Training Accuracy: 0.6605\n",
      "Epoch [10/50], Validation Loss: 0.9335, Validation Accuracy: 0.6030\n",
      "Epoch [11/50], Validation Loss: 0.9315, Validation Accuracy: 0.6045\n",
      "Epoch [12/50], Validation Loss: 0.9323, Validation Accuracy: 0.6000\n",
      "Epoch [13/50], Validation Loss: 0.9324, Validation Accuracy: 0.6000\n",
      "Epoch [14/50], Validation Loss: 0.9358, Validation Accuracy: 0.6005\n",
      "Epoch [15/50], Validation Loss: 0.9354, Validation Accuracy: 0.6065\n",
      "Epoch [16/50], Validation Loss: 0.9333, Validation Accuracy: 0.6035\n",
      "Epoch [17/50], Validation Loss: 0.9366, Validation Accuracy: 0.5970\n",
      "Epoch [18/50], Validation Loss: 0.9356, Validation Accuracy: 0.6020\n",
      "Epoch [19/50], Validation Loss: 0.9379, Validation Accuracy: 0.5975\n",
      "Epoch [20/50], Avg Training Loss: 0.8793, Training Accuracy: 0.6674\n",
      "Epoch [20/50], Validation Loss: 0.9362, Validation Accuracy: 0.5980\n",
      "Epoch [21/50], Validation Loss: 0.9354, Validation Accuracy: 0.6025\n",
      "Epoch [22/50], Validation Loss: 0.9361, Validation Accuracy: 0.5990\n",
      "Epoch [23/50], Validation Loss: 0.9377, Validation Accuracy: 0.5965\n",
      "Epoch [24/50], Validation Loss: 0.9362, Validation Accuracy: 0.6055\n",
      "Epoch [25/50], Validation Loss: 0.9357, Validation Accuracy: 0.6000\n",
      "Epoch [26/50], Validation Loss: 0.9344, Validation Accuracy: 0.6030\n",
      "Epoch [27/50], Validation Loss: 0.9377, Validation Accuracy: 0.5970\n",
      "Epoch [28/50], Validation Loss: 0.9379, Validation Accuracy: 0.5975\n",
      "Epoch [29/50], Validation Loss: 0.9369, Validation Accuracy: 0.5930\n",
      "Epoch [30/50], Avg Training Loss: 0.8749, Training Accuracy: 0.6733\n",
      "Epoch [30/50], Validation Loss: 0.9377, Validation Accuracy: 0.5980\n",
      "Epoch [31/50], Validation Loss: 0.9393, Validation Accuracy: 0.5990\n",
      "Epoch [32/50], Validation Loss: 0.9377, Validation Accuracy: 0.5970\n",
      "Epoch [33/50], Validation Loss: 0.9387, Validation Accuracy: 0.5985\n",
      "Epoch [34/50], Validation Loss: 0.9369, Validation Accuracy: 0.5990\n",
      "Epoch [35/50], Validation Loss: 0.9392, Validation Accuracy: 0.6000\n",
      "Epoch [36/50], Validation Loss: 0.9401, Validation Accuracy: 0.5970\n",
      "Epoch [37/50], Validation Loss: 0.9404, Validation Accuracy: 0.5925\n",
      "Epoch [38/50], Validation Loss: 0.9352, Validation Accuracy: 0.6045\n",
      "Epoch [39/50], Validation Loss: 0.9384, Validation Accuracy: 0.5970\n",
      "Epoch [40/50], Avg Training Loss: 0.8705, Training Accuracy: 0.6790\n",
      "Epoch [40/50], Validation Loss: 0.9386, Validation Accuracy: 0.5990\n",
      "Epoch [41/50], Validation Loss: 0.9386, Validation Accuracy: 0.5990\n",
      "Epoch [42/50], Validation Loss: 0.9380, Validation Accuracy: 0.5945\n",
      "Epoch [43/50], Validation Loss: 0.9383, Validation Accuracy: 0.5975\n",
      "Epoch [44/50], Validation Loss: 0.9372, Validation Accuracy: 0.6005\n",
      "Epoch [45/50], Validation Loss: 0.9399, Validation Accuracy: 0.5905\n",
      "Epoch [46/50], Validation Loss: 0.9412, Validation Accuracy: 0.5935\n",
      "Epoch [47/50], Validation Loss: 0.9385, Validation Accuracy: 0.5945\n",
      "Epoch [48/50], Validation Loss: 0.9409, Validation Accuracy: 0.5915\n",
      "Epoch [49/50], Validation Loss: 0.9397, Validation Accuracy: 0.5910\n",
      "Epoch [50/50], Avg Training Loss: 0.8661, Training Accuracy: 0.6841\n",
      "Epoch [50/50], Validation Loss: 0.9417, Validation Accuracy: 0.5935\n"
     ]
    }
   ],
   "source": [
    "epochs = 50\n",
    "for epoch in range(epochs + 1):\n",
    "    model.train()\n",
    "    total_train_loss = 0\n",
    "    correct_train = 0\n",
    "    total_train = 0\n",
    "\n",
    "    for inputs, labels in train_loader:\n",
    "        optimizer.zero_grad()\n",
    "        y_pred = model(inputs)\n",
    "        loss = criterion(y_pred, labels)\n",
    "        total_train_loss += loss.item()\n",
    "\n",
    "        loss.backward()\n",
    "        optimizer.step()\n",
    "\n",
    "        # Calculate training accuracy\n",
    "        _, predicted = torch.max(y_pred, 1)\n",
    "        correct_train += (predicted == labels).sum().item()\n",
    "        total_train += labels.size(0)\n",
    "\n",
    "    train_accuracy = correct_train / total_train\n",
    "    \n",
    "    # Print epoch metrics\n",
    "    if epoch % 10 == 0:\n",
    "        print(f'Epoch [{epoch}/{epochs}], Avg Training Loss: {total_train_loss / len(train_loader):.4f}, Training Accuracy: {train_accuracy:.4f}')\n",
    "\n",
    "    # Validation metrics\n",
    "    model.eval()\n",
    "    total_val_loss = 0\n",
    "    correct_val = 0\n",
    "    total_val = 0\n",
    "    with torch.no_grad():\n",
    "        for inputs, labels in valid_loader:\n",
    "            outputs = model(inputs)\n",
    "            loss = criterion(outputs, labels)\n",
    "            total_val_loss += loss.item()\n",
    "            _, predicted = torch.max(outputs, 1)\n",
    "            correct_val += (predicted == labels).sum().item()\n",
    "            total_val += labels.size(0)\n",
    "\n",
    "    val_accuracy = correct_val / total_val\n",
    "    print(f'Epoch [{epoch}/{epochs}], Validation Loss: {total_val_loss / len(valid_loader):.4f}, Validation Accuracy: {val_accuracy:.4f}')\n"
   ]
  },
  {
   "cell_type": "markdown",
   "id": "2fb99e61-9f6c-455b-adef-8351078fa15d",
   "metadata": {},
   "source": [
    "## Step 7:Training the Model \n",
    "### 1.Validation Phase"
   ]
  },
  {
   "cell_type": "code",
   "execution_count": 42,
   "id": "f2cb8623-0b85-4f3a-a6f8-0ea68b3dfa53",
   "metadata": {},
   "outputs": [
    {
     "name": "stdout",
     "output_type": "stream",
     "text": [
      "Test Accuracy: 0.5884\n",
      "Test F1 Score: 0.5847\n"
     ]
    }
   ],
   "source": [
    "from sklearn.metrics import f1_score\n",
    "\n",
    "# Set model to eval mode\n",
    "model.eval()\n",
    "correct_test = 0\n",
    "total_test = 0\n",
    "y_true = []\n",
    "y_pred = []\n",
    "\n",
    "# No gradient calculation during testing\n",
    "with torch.no_grad():\n",
    "    for inputs, labels in test_loader:\n",
    "        outputs = model(inputs)\n",
    "        _, predicted = torch.max(outputs, 1)\n",
    "        total_test += labels.size(0)\n",
    "        correct_test += (predicted == labels).sum().item()\n",
    "        y_true.extend(labels.cpu().numpy())  # Move labels to CPU\n",
    "        y_pred.extend(predicted.cpu().numpy())  # Move preds to CPU\n",
    "\n",
    "# Calculate accuracy\n",
    "test_accuracy = correct_test / total_test\n",
    "print(f\"Test Accuracy: {test_accuracy:.4f}\")\n",
    "\n",
    "# Calculate F1 Score\n",
    "f1 = f1_score(y_true, y_pred, average='weighted')  # Handle class imbalance\n",
    "print(f\"Test F1 Score: {f1:.4f}\")"
   ]
  },
  {
   "cell_type": "markdown",
   "id": "f628e1c6-3ac2-426b-9785-daf1d0cc76ff",
   "metadata": {},
   "source": [
    "## Step 8 :Evaluation and Confusion Matrix"
   ]
  },
  {
   "cell_type": "code",
   "execution_count": 41,
   "id": "ee573efb-71e9-4e5c-b685-6ef404df5a9b",
   "metadata": {},
   "outputs": [
    {
     "name": "stdout",
     "output_type": "stream",
     "text": [
      "Length of y_pred: 12284\n"
     ]
    },
    {
     "data": {
      "image/png": "[encoded data removed]",
      "text/plain": [
       "<Figure size 640x480 with 2 Axes>"
      ]
     },
     "metadata": {},
     "output_type": "display_data"
    },
    {
     "name": "stdout",
     "output_type": "stream",
     "text": [
      "              precision    recall  f1-score   support\n",
      "\n",
      "           0       0.65      0.47      0.54      3972\n",
      "           1       0.60      0.70      0.64      5937\n",
      "           2       0.49      0.52      0.51      2375\n",
      "\n",
      "    accuracy                           0.59     12284\n",
      "   macro avg       0.58      0.56      0.56     12284\n",
      "weighted avg       0.59      0.59      0.58     12284\n",
      "\n"
     ]
    }
   ],
   "source": [
    "import numpy as np\n",
    "\n",
    "model.eval()  # Set the model to evaluation mode\n",
    "y_pred = []  # List to store predictions\n",
    "\n",
    "# Loop through the test dataset\n",
    "with torch.no_grad():  # No need to compute gradients during inference\n",
    "    for inputs, _ in test_loader:  # Loop through batches of the test set\n",
    "        outputs = model(inputs)  # Forward pass: get model predictions\n",
    "        _, predicted = torch.max(outputs, 1)  # Get the predicted class (max value index)\n",
    "        y_pred.extend(predicted.numpy())  # Append predictions to the list\n",
    "\n",
    "# Convert to numpy array for consistency\n",
    "y_pred = np.array(y_pred)\n",
    "\n",
    "# Check the length of the predictions to make sure they match the length of y_true\n",
    "print(\"Length of y_pred:\", len(y_pred))  # Should be 12284, the same as y_true\n",
    "\n",
    "# Now, you can proceed with plotting the confusion matrix and generating the classification report\n",
    "from sklearn.metrics import confusion_matrix, classification_report\n",
    "import seaborn as sns\n",
    "import matplotlib.pyplot as plt\n",
    "\n",
    "# Generate and plot confusion matrix\n",
    "cm = confusion_matrix(y_true, y_pred)  # Compute confusion matrix\n",
    "sns.heatmap(cm, annot=True, fmt='d', cmap='Blues', \n",
    "            xticklabels=label_encoder.classes_, yticklabels=label_encoder.classes_)  # Plot heatmap\n",
    "plt.xlabel('Predicted')\n",
    "plt.ylabel('True')\n",
    "plt.title('Confusion Matrix')\n",
    "plt.show()  # Display the confusion matrix plot\n",
    "\n",
    "# Print classification report for detailed performance metrics\n",
    "print(classification_report(y_true, y_pred, target_names=label_encoder.classes_))  # Precision, recall, F1-score\n"
   ]
  }
 ],
 "metadata": {
  "kernelspec": {
   "display_name": "Python 3 (ipykernel)",
   "language": "python",
   "name": "python3"
  },
  "language_info": {
   "codemirror_mode": {
    "name": "ipython",
    "version": 3
   },
   "file_extension": ".py",
   "mimetype": "text/x-python",
   "name": "python",
   "nbconvert_exporter": "python",
   "pygments_lexer": "ipython3",
   "version": "3.11.7"
  }
 },
 "nbformat": 4,
 "nbformat_minor": 5
}
